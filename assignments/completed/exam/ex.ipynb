{
 "cells": [
  {
   "cell_type": "code",
   "execution_count": 42,
   "source": [
    "from sklearn.svm import SVC\n",
    "import numpy as np\n",
    "\n",
    "svr = SVC(degree=2, kernel='linear')\n",
    "x = np.array([[1, 5], [-2,-4], [2,3], [-1,5]])\n",
    "y = np.array([1, 1, -1, -1])\n",
    "svr.fit(x, y)"
   ],
   "outputs": [
    {
     "output_type": "execute_result",
     "data": {
      "text/plain": [
       "SVC(degree=2, kernel='linear')"
      ]
     },
     "metadata": {},
     "execution_count": 42
    }
   ],
   "metadata": {}
  },
  {
   "cell_type": "code",
   "execution_count": 43,
   "source": [
    "svr.dual_coef_\n"
   ],
   "outputs": [
    {
     "output_type": "execute_result",
     "data": {
      "text/plain": [
       "array([[-0.6563337 , -0.51251208,  1.        ,  0.16884578]])"
      ]
     },
     "metadata": {},
     "execution_count": 43
    }
   ],
   "metadata": {}
  },
  {
   "cell_type": "code",
   "execution_count": 44,
   "source": [
    "X = np.array([1,1,0,1,1,0,0])\n",
    "Y = np.array([1,0,0,0,1,0,1])\n",
    "\n",
    "def M2(x, y, o1, o2):\n",
    "    return o1**(x)*(1-o1)**(1-x)*o2**(1-x-y+2*x*y)*(1-o2)**(x+y-2*x*y)\n",
    "\n",
    "\n",
    "def M4(x, y, o00, o01, o10, o11):\n",
    "    return o00**((1-x)*(1-y))*o01**((1-x)*y)*o10**(x*(1-y))*o11**(x*y)\n",
    "\n",
    "\n",
    "from math import log\n",
    "\n",
    "m2 = 0\n",
    "m4 = 0\n",
    "for i in range(len(X)):\n",
    "    x, y = np.r_[X[:i], X[(i+1):]], np.r_[Y[:i], Y[(i+1):]]\n",
    "    lx, ly = len(x[x==1])/len(x), len(y[y==1])/len(x)\n",
    "    o1, o2 = lx, 2*lx*ly-ly-lx+1\n",
    "    o00, o01, o10, o11 = (1-lx)*(1-ly), (1-lx)*ly, lx*(1-ly), lx*ly\n",
    "\n",
    "\n",
    "    m2 += log(M2(X[i], Y[i], o1, o2))\n",
    "    m4 += log(M4(X[i], Y[i], o00, o01, o10, o11))\n",
    "\n",
    "print(m2, m4)\n",
    "\n",
    "\n",
    "x, y = X, Y#np.r_[X[:i], X[(i+1):]], np.r_[Y[:i], Y[(i+1):]]\n",
    "lx, ly = len(x[x==1])/len(x), len(y[y==1])/len(x)\n",
    "o1, o2 = lx, 2*lx*ly-ly-lx+1\n",
    "o00, o01, o10, o11 = (1-lx)*(1-ly), (1-lx)*ly, lx*(1-ly), lx*ly\n",
    "\n",
    "BIC2, BIC4 = - 2/2*log(len(x)), - 4/2*log(len(x))\n",
    "for i in range(len(x)):\n",
    "    BIC2 += log(M2(X[i], Y[i], o1, o2)) \n",
    "    BIC4 += log(M4(X[i], Y[i], o00, o01, o10, o11)) \n",
    "\n",
    "print(BIC2, BIC4)"
   ],
   "outputs": [
    {
     "output_type": "stream",
     "name": "stdout",
     "text": [
      "-10.815095336505902 -12.136851176488218\n",
      "-11.600166172736618 -13.45253376391723\n"
     ]
    }
   ],
   "metadata": {}
  },
  {
   "cell_type": "code",
   "execution_count": null,
   "source": [],
   "outputs": [],
   "metadata": {}
  }
 ],
 "metadata": {
  "orig_nbformat": 4,
  "language_info": {
   "name": "python",
   "version": "3.8.10",
   "mimetype": "text/x-python",
   "codemirror_mode": {
    "name": "ipython",
    "version": 3
   },
   "pygments_lexer": "ipython3",
   "nbconvert_exporter": "python",
   "file_extension": ".py"
  },
  "kernelspec": {
   "name": "python3",
   "display_name": "Python 3.8.10 64-bit"
  },
  "interpreter": {
   "hash": "31f2aee4e71d21fbe5cf8b01ff0e069b9275f58929596ceb00d14d90e3e16cd6"
  }
 },
 "nbformat": 4,
 "nbformat_minor": 2
}